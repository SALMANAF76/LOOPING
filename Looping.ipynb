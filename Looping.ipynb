{
 "cells": [
  {
   "cell_type": "code",
   "execution_count": 6,
   "id": "90823a9b",
   "metadata": {},
   "outputs": [
    {
     "name": "stdout",
     "output_type": "stream",
     "text": [
      "1 2 3 4 5 6 7 8 9 10 "
     ]
    }
   ],
   "source": [
    "# mencetak angka 1-10\n",
    "\n",
    "for i in range (1,11):\n",
    "    print(i, end=\" \")\n",
    "    "
   ]
  },
  {
   "cell_type": "code",
   "execution_count": 4,
   "id": "585ba073",
   "metadata": {},
   "outputs": [
    {
     "name": "stdout",
     "output_type": "stream",
     "text": [
      "10 11 12 13 14 15 16 17 18 19 20 21 22 23 24 25 26 27 28 29 30 31 32 33 34 35 36 37 38 39 40 41 42 43 44 45 46 47 48 49 50 51 52 53 54 55 56 57 58 59 60 61 62 63 64 65 66 67 68 69 70 71 72 73 74 75 76 77 78 79 80 81 82 83 84 85 86 87 88 89 90 91 92 93 94 95 96 97 98 99 100 "
     ]
    }
   ],
   "source": [
    "# mencetak angka 10 20 30 --- 100\n",
    "\n",
    "for i in range (10,101):\n",
    "    print(i, end=\" \")"
   ]
  },
  {
   "cell_type": "code",
   "execution_count": 25,
   "id": "1dc1cc9e",
   "metadata": {},
   "outputs": [
    {
     "name": "stdout",
     "output_type": "stream",
     "text": [
      "10 20 30 40 50 60 70 80 90 100 "
     ]
    }
   ],
   "source": [
    "for i in range (1,11):\n",
    "    print(i * 10, end =\" \")"
   ]
  },
  {
   "cell_type": "code",
   "execution_count": 11,
   "id": "243bf3d7",
   "metadata": {},
   "outputs": [
    {
     "name": "stdout",
     "output_type": "stream",
     "text": [
      "10 21 32 43 54 65 76 87 98 "
     ]
    }
   ],
   "source": [
    "for i in range (10,101,11):\n",
    "    print(i, end = \" \")"
   ]
  },
  {
   "cell_type": "code",
   "execution_count": 16,
   "id": "1697a42c",
   "metadata": {},
   "outputs": [
    {
     "name": "stdout",
     "output_type": "stream",
     "text": [
      "10 9 8 7 6 5 4 3 2 1 "
     ]
    }
   ],
   "source": [
    "# mencetak angka reverse 10 9 8 7 ...\n",
    "\n",
    "for i in range(1,11):\n",
    "    print(11 - i, end = \" \")"
   ]
  },
  {
   "cell_type": "code",
   "execution_count": 22,
   "id": "b4ea3e20",
   "metadata": {},
   "outputs": [
    {
     "name": "stdout",
     "output_type": "stream",
     "text": [
      "10 9 8 7 6 5 4 3 2 1 0 -1 "
     ]
    }
   ],
   "source": [
    "for i in range (10,-2,-1):\n",
    "    print(i, end=\" \")"
   ]
  },
  {
   "cell_type": "code",
   "execution_count": 26,
   "id": "6e30be3f",
   "metadata": {},
   "outputs": [
    {
     "name": "stdout",
     "output_type": "stream",
     "text": [
      "-1 1 -1 1 -1 1 -1 1 -1 1 "
     ]
    }
   ],
   "source": [
    "# mencetak angka 1 -2 3 -4 5 -6 ... 10\n",
    "sign = 1\n",
    "for i in range(1,11):\n",
    "    sign = sign * -1\n",
    "    print(sign, end=\" \")"
   ]
  },
  {
   "cell_type": "code",
   "execution_count": 35,
   "id": "65bf0e34",
   "metadata": {},
   "outputs": [
    {
     "name": "stdout",
     "output_type": "stream",
     "text": [
      "1 -2 3 -4 5 -6 7 -8 9 -10 "
     ]
    }
   ],
   "source": [
    "sign = -1\n",
    "for i in range(1,11):\n",
    "    sign = sign * -1\n",
    "    print(i * sign, end=\" \")"
   ]
  },
  {
   "cell_type": "code",
   "execution_count": 60,
   "id": "7d0ad156",
   "metadata": {},
   "outputs": [
    {
     "name": "stdout",
     "output_type": "stream",
     "text": [
      "isikan bilangan:4\n",
      "4! adalah 24\n",
      "4 * 3 * 2 * 1 = 24\n"
     ]
    }
   ],
   "source": [
    "# mencari bil faktorial\n",
    "# input = 3, output = 3 * 2 * 1 = 6\n",
    "# input = 4, output = 4 * 3 * 2 * 1 = 24\n",
    "\n",
    "bil = int(input('isikan bilangan:'))\n",
    "\n",
    "hasil = 1 \n",
    "label =\"\"\n",
    "\n",
    "for i in range(1, bil+1):\n",
    "    hasil = hasil * i\n",
    "    if i < bil:\n",
    "        label = label + str((bil+1) - i) + \" * \"\n",
    "    else:\n",
    "        label = label + str((bil+1) - i)\n",
    "print(f\"{bil}! adalah {hasil}\")\n",
    "print(f\"{label} = {hasil}\")\n",
    "\n"
   ]
  },
  {
   "cell_type": "code",
   "execution_count": 70,
   "id": "2b0b7c32",
   "metadata": {},
   "outputs": [
    {
     "name": "stdout",
     "output_type": "stream",
     "text": [
      "isikan bilangan:7\n",
      "isikan pangkat2\n",
      "7 pangkat 2 adalah 49\n"
     ]
    }
   ],
   "source": [
    "# menghitung pangkat\n",
    "\n",
    "bil = int(input('isikan bilangan:'))\n",
    "pangkat = int(input('isikan pangkat'))\n",
    "hasil = 1\n",
    "for i in range(1,  pangkat+1):\n",
    "    hasil *= bil\n",
    "    \n",
    "print(f'{bil} pangkat {pangkat} adalah {hasil}')\n"
   ]
  },
  {
   "cell_type": "code",
   "execution_count": 94,
   "id": "c61a7d23",
   "metadata": {},
   "outputs": [
    {
     "name": "stdout",
     "output_type": "stream",
     "text": [
      "isikan bilangan4\n",
      "4 adalah bukan bilangan prima\n",
      "4 adalah bilangan prima\n",
      "4 adalah bilangan prima\n",
      "4 adalah bukan bilangan prima\n"
     ]
    }
   ],
   "source": [
    "# mengecek bilangan prima atau bukan\n",
    "# bill prima = bil yang hanya habis dibagi dengan 1 dan bil itu sendiri => 2 faktor\n",
    "\n",
    "bil = int(input('isikan bilangan'))\n",
    "jumlah = 0\n",
    "\n",
    "for i in range(1, bil + 1):\n",
    "        sisa = bil % i\n",
    "        if sisa == 0:\n",
    "            jumlah = jumlah + 1\n",
    "            \n",
    "        if jumlah ==2:\n",
    "             print(f'{bil} adalah bilangan prima')\n",
    "        else:\n",
    "            print(f'{bil} adalah bukan bilangan prima')\n",
    "            \n",
    "\n",
    "        \n",
    "            "
   ]
  },
  {
   "cell_type": "code",
   "execution_count": 95,
   "id": "2b4514b9",
   "metadata": {},
   "outputs": [
    {
     "name": "stdout",
     "output_type": "stream",
     "text": [
      "isikan bilangan1\n",
      "1 adalah bukan bilangan prima\n"
     ]
    }
   ],
   "source": [
    "bil = int(input('isikan bilangan'))\n",
    "jumlah = 0\n",
    "for i in range(2, bil):\n",
    "        sisa = bil % i\n",
    "        if sisa == 0:\n",
    "            keterangan = 'bukan bilangan prima'\n",
    "            break\n",
    "print(f'{bil} adalah {keterangan}')\n"
   ]
  },
  {
   "cell_type": "code",
   "execution_count": 90,
   "id": "4b5096c7",
   "metadata": {},
   "outputs": [
    {
     "name": "stdout",
     "output_type": "stream",
     "text": [
      "1\n",
      "2\n",
      "3\n",
      "4\n",
      "5\n",
      "\n",
      "1 2 3 4 6 7 8 9 "
     ]
    }
   ],
   "source": [
    "for i in range(1,100):\n",
    "    print(i)\n",
    "    if i==5:\n",
    "        break\n",
    "print()\n",
    "        \n",
    "for j in range(1,10):\n",
    "    if j == 5:\n",
    "        continue\n",
    "    print(j, end = ' ')"
   ]
  },
  {
   "cell_type": "code",
   "execution_count": 113,
   "id": "bd1a9086",
   "metadata": {},
   "outputs": [
    {
     "name": "stdout",
     "output_type": "stream",
     "text": [
      "isikan kalimat:ada saja\n",
      "jumlah huruf a:4\n"
     ]
    }
   ],
   "source": [
    "# looping untuk string \n",
    "\n",
    "kalimat = input('isikan kalimat:')\n",
    "vokal_a = 0\n",
    "for i in kalimat:\n",
    "    if i=='a':\n",
    "        vokal_a += 1\n",
    "        \n",
    "print(f'jumlah huruf a:{vokal_a}')\n",
    "\n"
   ]
  },
  {
   "cell_type": "code",
   "execution_count": 1,
   "id": "794d77a5",
   "metadata": {},
   "outputs": [
    {
     "name": "stdout",
     "output_type": "stream",
     "text": [
      "isikan kalimat:ada saja\n",
      "jumlah huruf a:4\n",
      "jumlah huruf d:1\n",
      "jumlah huruf s:1\n",
      "jumlah huruf j:1\n",
      "jumlah huruf vokal = 7\n"
     ]
    }
   ],
   "source": [
    "kalimat = input('isikan kalimat:')\n",
    "vokal_a = 0\n",
    "vokal_d = 0\n",
    "vokal_s = 0\n",
    "vokal_j = 0\n",
    "for i in kalimat:\n",
    "    if i=='a':\n",
    "        vokal_a += 1\n",
    "    elif i == 'd':\n",
    "        vokal_d += 1\n",
    "    elif i == 's':\n",
    "        vokal_s += 1\n",
    "    elif i == 'j':\n",
    "        vokal_j += 1\n",
    "        \n",
    "jumlah = vokal_a + vokal_d + vokal_s + vokal_j\n",
    "  \n",
    "        \n",
    "print(f'jumlah huruf a:{vokal_a}')\n",
    "print(f'jumlah huruf d:{vokal_d}')\n",
    "print(f'jumlah huruf s:{vokal_s}')\n",
    "print(f'jumlah huruf j:{vokal_j}')\n",
    "print(f'jumlah huruf vokal = {jumlah}')\n"
   ]
  },
  {
   "cell_type": "code",
   "execution_count": null,
   "id": "887e8b7f",
   "metadata": {},
   "outputs": [
    {
     "name": "stdout",
     "output_type": "stream",
     "text": [
      "isikan kalimat:ada\n",
      "PALINDROME\n",
      "apakah mau mengulang program (y/t)?:y\n",
      "apakah mau mengulang program (y/t)?:t\n"
     ]
    }
   ],
   "source": [
    "# kalimat palindrome atau bukan\n",
    "# palindrome adalah kalimat yang dibaca dari kiri ke kanan == kanan ke kiri\n",
    "# contoh => kasur rusak\n",
    "ulang ='y'\n",
    "while(ulang=='y'):\n",
    "    kalimat = input ('isikan kalimat:')\n",
    "    panjang = len(kalimat)\n",
    "    keterangan = 'PALINDROME'\n",
    "\n",
    "    for i in range(0,panjang):\n",
    "        kika = kalimat[i].lower()\n",
    "        kaki = kalimat[panjang - i-1].lower()\n",
    "        if kika != kaki:\n",
    "            keterangan = 'BUKAN PALINDROME'\n",
    "            break\n",
    "    print(f'{keterangan}')\n",
    "    \n",
    "    jawab =''\n",
    "    while(jawab!='y' and jawab !='t'):\n",
    "        ulang = input('apakah mau mengulang program (y/t)?:')\n",
    "    ulang = jawab\n",
    "   "
   ]
  },
  {
   "cell_type": "code",
   "execution_count": 1,
   "id": "9806468d",
   "metadata": {},
   "outputs": [
    {
     "name": "stdout",
     "output_type": "stream",
     "text": [
      "i:(i) dan j:1\n",
      "i:(i) dan j:2\n",
      "i:(i) dan j:3\n",
      "i:(i) dan j:4\n",
      "i:(i) dan j:1\n",
      "i:(i) dan j:2\n",
      "i:(i) dan j:3\n",
      "i:(i) dan j:4\n",
      "i:(i) dan j:1\n",
      "i:(i) dan j:2\n",
      "i:(i) dan j:3\n",
      "i:(i) dan j:4\n",
      "i:(i) dan j:1\n",
      "i:(i) dan j:2\n",
      "i:(i) dan j:3\n",
      "i:(i) dan j:4\n"
     ]
    }
   ],
   "source": [
    "# NEsted FOR\n",
    "\n",
    "for i in range(1,5):\n",
    "    for j in range(1,5):\n",
    "        print(f'i:(i) dan j:{j}')"
   ]
  },
  {
   "cell_type": "code",
   "execution_count": null,
   "id": "05333447",
   "metadata": {},
   "outputs": [],
   "source": []
  }
 ],
 "metadata": {
  "kernelspec": {
   "display_name": "Python 3 (ipykernel)",
   "language": "python",
   "name": "python3"
  },
  "language_info": {
   "codemirror_mode": {
    "name": "ipython",
    "version": 3
   },
   "file_extension": ".py",
   "mimetype": "text/x-python",
   "name": "python",
   "nbconvert_exporter": "python",
   "pygments_lexer": "ipython3",
   "version": "3.9.12"
  }
 },
 "nbformat": 4,
 "nbformat_minor": 5
}
